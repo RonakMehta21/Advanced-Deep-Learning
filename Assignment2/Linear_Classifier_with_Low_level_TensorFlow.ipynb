{
  "nbformat": 4,
  "nbformat_minor": 0,
  "metadata": {
    "colab": {
      "name": "Linear Classifier with Low-level TensorFlow.ipynb",
      "provenance": [],
      "collapsed_sections": [],
      "authorship_tag": "ABX9TyPJ3OJtyBv4FEeVEYlI61Hh",
      "include_colab_link": true
    },
    "kernelspec": {
      "name": "python3",
      "display_name": "Python 3"
    }
  },
  "cells": [
    {
      "cell_type": "markdown",
      "metadata": {
        "id": "view-in-github",
        "colab_type": "text"
      },
      "source": [
        "<a href=\"https://colab.research.google.com/github/RonakMehta21/Advanced-Deep-Learning/blob/master/Assignment2/Linear_Classifier_with_Low_level_TensorFlow.ipynb\" target=\"_parent\"><img src=\"https://colab.research.google.com/assets/colab-badge.svg\" alt=\"Open In Colab\"/></a>"
      ]
    },
    {
      "cell_type": "markdown",
      "metadata": {
        "id": "HsjY3XGz1fOc",
        "colab_type": "text"
      },
      "source": [
        "# Linear Classifier with Low-level TensorFlow"
      ]
    },
    {
      "cell_type": "markdown",
      "metadata": {
        "id": "dUwTXtUAyk3L",
        "colab_type": "text"
      },
      "source": [
        "**TensorFlow** is a Numpy-like library that is GPU or TPU accelerated, with automatic differentiation. This colab doesn't use any high level keras components to build a linear classifier. The linear classifier is used to classify negative and positive numbers. \n",
        "\n",
        "The colab leverages [GradientTape](https://www.tensorflow.org/api_docs/python/tf/GradientTape) to record operations for automatic differentiation. To automatically retrieve the gradient of any differentiable expression, `GradientTape` is used and the tensor is watched by invoking the `watch` method. Please refer [TensorFlow basics colab](https://colab.research.google.com/drive/102EGGB2k8NZ4uCVrisDSpYlTQj3iN73s?usp=sharing) for more information."
      ]
    },
    {
      "cell_type": "markdown",
      "metadata": {
        "id": "BC3K7Sof1oaj",
        "colab_type": "text"
      },
      "source": [
        "### Import necessary packages"
      ]
    },
    {
      "cell_type": "code",
      "metadata": {
        "id": "zgSRsYLsyEkD",
        "colab_type": "code",
        "colab": {
          "base_uri": "https://localhost:8080/",
          "height": 34
        },
        "outputId": "dc55065b-e947-4f52-8e2c-741bfb2654a1"
      },
      "source": [
        "import tensorflow as tf\n",
        "print(tf.__version__)\n",
        "import numpy as np\n",
        "import random\n",
        "import time\n",
        "import matplotlib.pyplot as plt\n",
        "%matplotlib inline"
      ],
      "execution_count": 22,
      "outputs": [
        {
          "output_type": "stream",
          "text": [
            "2.3.0\n"
          ],
          "name": "stdout"
        }
      ]
    },
    {
      "cell_type": "markdown",
      "metadata": {
        "id": "2jGRS-Um2EYN",
        "colab_type": "text"
      },
      "source": [
        "### Prepare a dataset"
      ]
    },
    {
      "cell_type": "code",
      "metadata": {
        "id": "PWz8s9De1uRK",
        "colab_type": "code",
        "colab": {
          "base_uri": "https://localhost:8080/",
          "height": 255
        },
        "outputId": "2fac3037-6644-48c1-c0d6-1960cc24a3fd"
      },
      "source": [
        "num_samples = 10000 # size of the positive and negative numbers\n",
        "\n",
        "## random samples from multivariate normal distribution is generated using np.random.multivariate_normal method\n",
        "# The coordinate of the mean is (0,3) in N-dimensional space for negative samples and (3,0) for positive samples\n",
        "# Cov indicates the covariance matrix of the distribution\n",
        "negative_samples = np.random.multivariate_normal(mean=[0, 3], cov=[[1, 0.5],[0.5, 1]], size=num_samples)\n",
        "positive_samples = np.random.multivariate_normal(mean=[3, 0], cov=[[1, 0.5],[0.5, 1]], size=num_samples)\n",
        "print(negative_samples)\n",
        "print(positive_samples)"
      ],
      "execution_count": 4,
      "outputs": [
        {
          "output_type": "stream",
          "text": [
            "[[-0.58357772  5.48505279]\n",
            " [-0.02673586  1.85308311]\n",
            " [ 0.20518281  2.4606794 ]\n",
            " ...\n",
            " [-0.19387831  2.67100079]\n",
            " [ 1.55273864  4.89710652]\n",
            " [ 1.13674341  3.50347779]]\n",
            "[[ 3.63258115  0.048973  ]\n",
            " [ 3.41804249 -0.58364278]\n",
            " [ 1.54831139  0.50635053]\n",
            " ...\n",
            " [ 4.18151625  0.34036878]\n",
            " [ 3.23808505 -0.00877393]\n",
            " [ 3.45737698  0.43266757]]\n"
          ],
          "name": "stdout"
        }
      ]
    },
    {
      "cell_type": "code",
      "metadata": {
        "id": "Cr6rVfT55mjc",
        "colab_type": "code",
        "colab": {}
      },
      "source": [
        "# np.vstack is used to stack arrays in sequence vertically (row wise). The function stores the negative and positive samples into a stack array \n",
        "features = np.vstack((negative_samples, positive_samples)).astype(np.float32)"
      ],
      "execution_count": 8,
      "outputs": []
    },
    {
      "cell_type": "code",
      "metadata": {
        "id": "6R-KKexX2Wzd",
        "colab_type": "code",
        "colab": {
          "base_uri": "https://localhost:8080/",
          "height": 136
        },
        "outputId": "e0d85131-ecb2-4822-c79b-1c6e4dafaadd"
      },
      "source": [
        "# This creates 10000 zeros followed by 10000 ones\n",
        "labels = np.vstack((np.zeros((num_samples, 1), dtype='float32'),np.ones((num_samples, 1), dtype='float32')))\n",
        "print(labels)"
      ],
      "execution_count": 6,
      "outputs": [
        {
          "output_type": "stream",
          "text": [
            "[[0.]\n",
            " [0.]\n",
            " [0.]\n",
            " ...\n",
            " [1.]\n",
            " [1.]\n",
            " [1.]]\n"
          ],
          "name": "stdout"
        }
      ]
    },
    {
      "cell_type": "markdown",
      "metadata": {
        "id": "KZ7MwNBA5VhO",
        "colab_type": "text"
      },
      "source": [
        "### Plot the negative and positive samples"
      ]
    },
    {
      "cell_type": "code",
      "metadata": {
        "id": "-jlU-KZ15MGq",
        "colab_type": "code",
        "colab": {
          "base_uri": "https://localhost:8080/",
          "height": 282
        },
        "outputId": "ebceacf7-cd45-485b-d1df-11761f3469eb"
      },
      "source": [
        "plt.scatter(features[:, 0], features[:, 1], c=labels[:, 0])"
      ],
      "execution_count": 9,
      "outputs": [
        {
          "output_type": "execute_result",
          "data": {
            "text/plain": [
              "<matplotlib.collections.PathCollection at 0x7fe1c9210518>"
            ]
          },
          "metadata": {
            "tags": []
          },
          "execution_count": 9
        },
        {
          "output_type": "display_data",
          "data": {
            "image/png": "[encoded data removed]",
            "text/plain": [
              "<Figure size 432x288 with 1 Axes>"
            ]
          },
          "metadata": {
            "tags": [],
            "needs_background": "light"
          }
        }
      ]
    },
    {
      "cell_type": "markdown",
      "metadata": {
        "id": "6cGlbKAg6I-b",
        "colab_type": "text"
      },
      "source": [
        "### Shuffle the data"
      ]
    },
    {
      "cell_type": "code",
      "metadata": {
        "id": "lhIsfm2A5aag",
        "colab_type": "code",
        "colab": {
          "base_uri": "https://localhost:8080/",
          "height": 34
        },
        "outputId": "777cc5fa-82a8-4e97-f659-040d367235eb"
      },
      "source": [
        "## Randomly permute a sequence\n",
        "indices = np.random.permutation(len(features))\n",
        "print(indices)\n",
        "features = features[indices]\n",
        "labels = labels[indices]"
      ],
      "execution_count": 10,
      "outputs": [
        {
          "output_type": "stream",
          "text": [
            "[ 1469 13376 13503 ... 16609 19889 14747]\n"
          ],
          "name": "stdout"
        }
      ]
    },
    {
      "cell_type": "code",
      "metadata": {
        "id": "FZLutdRo6WiH",
        "colab_type": "code",
        "colab": {
          "base_uri": "https://localhost:8080/",
          "height": 255
        },
        "outputId": "beafbde0-f759-4bcc-bada-6900b0058168"
      },
      "source": [
        "# The features and labels are hence randomly shuffled\n",
        "print(features)\n",
        "print(labels)"
      ],
      "execution_count": 11,
      "outputs": [
        {
          "output_type": "stream",
          "text": [
            "[[ 1.8168961   4.008665  ]\n",
            " [ 2.8133163   1.2132363 ]\n",
            " [ 3.4815416  -0.8699839 ]\n",
            " ...\n",
            " [ 4.096129    0.75472605]\n",
            " [ 1.5503962  -2.4926107 ]\n",
            " [ 1.1372683  -1.359657  ]]\n",
            "[[0.]\n",
            " [1.]\n",
            " [1.]\n",
            " ...\n",
            " [1.]\n",
            " [1.]\n",
            " [1.]]\n"
          ],
          "name": "stdout"
        }
      ]
    },
    {
      "cell_type": "markdown",
      "metadata": {
        "id": "KweaO2Um7G6n",
        "colab_type": "text"
      },
      "source": [
        "### Build a Linear Classifier"
      ]
    },
    {
      "cell_type": "code",
      "metadata": {
        "id": "eSOu2JSR7Ksc",
        "colab_type": "code",
        "colab": {
          "base_uri": "https://localhost:8080/",
          "height": 85
        },
        "outputId": "26efaff0-7d0b-4f35-c06e-313a638f0d62"
      },
      "source": [
        "input_dim = 2 \n",
        "output_dim = 1\n",
        "learning_rate = 0.01 # Learning rate\n",
        "\n",
        "# This is our weight matrix. This matrix contain random values from a uniform distribution.\n",
        "w = tf.Variable(tf.random.uniform(shape=(input_dim, output_dim)))\n",
        "print(w)\n",
        "# This is our bias vector\n",
        "b = tf.Variable(tf.zeros(shape=(output_dim,)))\n",
        "print(b)"
      ],
      "execution_count": 14,
      "outputs": [
        {
          "output_type": "stream",
          "text": [
            "<tf.Variable 'Variable:0' shape=(2, 1) dtype=float32, numpy=\n",
            "array([[0.18445826],\n",
            "       [0.11803281]], dtype=float32)>\n",
            "<tf.Variable 'Variable:0' shape=(1,) dtype=float32, numpy=array([0.], dtype=float32)>\n"
          ],
          "name": "stdout"
        }
      ]
    },
    {
      "cell_type": "code",
      "metadata": {
        "id": "OMS2lzt58LSL",
        "colab_type": "code",
        "colab": {}
      },
      "source": [
        "def compute_predictions(features):\n",
        "  # Multiplies matrix features by matrix w, producing features * w\n",
        "  # The result is added with bias b\n",
        "  return tf.matmul(features, w) + b\n",
        "\n",
        "def compute_loss(labels, predictions):\n",
        "  # Compute the mean of elements across dimensions of a tensor\n",
        "  return tf.reduce_mean(tf.square(labels - predictions))\n",
        "\n",
        "# Compile the training function into a static graph\n",
        "@tf.function\n",
        "def train_on_batch(x, y):\n",
        "  # Compute gradients with GradientTape\n",
        "  with tf.GradientTape() as tape:\n",
        "    predictions = compute_predictions(x)\n",
        "    loss = compute_loss(y, predictions)\n",
        "    # Note that `tape.gradient` works with a list as well (w, b).\n",
        "    dloss_dw, dloss_db = tape.gradient(loss, [w, b])\n",
        "  # adjust network's weights and biases based on gradients of the cost function\n",
        "  w.assign_sub(learning_rate * dloss_dw)\n",
        "  b.assign_sub(learning_rate * dloss_db)\n",
        "  return loss"
      ],
      "execution_count": 19,
      "outputs": []
    },
    {
      "cell_type": "markdown",
      "metadata": {
        "id": "BGadfULa61YX",
        "colab_type": "text"
      },
      "source": [
        "### Train the linear classifier by iterating batch-by-batch over the data"
      ]
    },
    {
      "cell_type": "code",
      "metadata": {
        "id": "L3eW5Kji6o9g",
        "colab_type": "code",
        "colab": {}
      },
      "source": [
        "# Create a tf.data.Dataset object for easy batched iteration\n",
        "dataset = tf.data.Dataset.from_tensor_slices((features, labels))\n",
        "dataset = dataset.shuffle(buffer_size=1024).batch(256)"
      ],
      "execution_count": 20,
      "outputs": []
    },
    {
      "cell_type": "code",
      "metadata": {
        "id": "rDLK7yYp-YBh",
        "colab_type": "code",
        "colab": {
          "base_uri": "https://localhost:8080/",
          "height": 204
        },
        "outputId": "bf5490c3-d420-444b-fee6-213cf48377d4"
      },
      "source": [
        "t0 = time.time()\n",
        "for epoch in range(10):\n",
        "  for step, (x, y) in enumerate(dataset):\n",
        "    loss = train_on_batch(x, y)\n",
        "  print('Epoch %d: last batch loss = %.4f' % (epoch, float(loss)))\n",
        "t_end = time.time() - t0\n",
        "print('Time per epoch: %.3f s' % (t_end / 20,))"
      ],
      "execution_count": 23,
      "outputs": [
        {
          "output_type": "stream",
          "text": [
            "Epoch 0: last batch loss = 0.0270\n",
            "Epoch 1: last batch loss = 0.0328\n",
            "Epoch 2: last batch loss = 0.0171\n",
            "Epoch 3: last batch loss = 0.0303\n",
            "Epoch 4: last batch loss = 0.0293\n",
            "Epoch 5: last batch loss = 0.0277\n",
            "Epoch 6: last batch loss = 0.0307\n",
            "Epoch 7: last batch loss = 0.0141\n",
            "Epoch 8: last batch loss = 0.0258\n",
            "Epoch 9: last batch loss = 0.0335\n",
            "Time per epoch: 0.045 s\n"
          ],
          "name": "stdout"
        }
      ]
    },
    {
      "cell_type": "markdown",
      "metadata": {
        "id": "TCzxgMOt-dYE",
        "colab_type": "text"
      },
      "source": [
        "### Evaluate the model"
      ]
    },
    {
      "cell_type": "code",
      "metadata": {
        "id": "W7lvnhIw-c0G",
        "colab_type": "code",
        "colab": {
          "base_uri": "https://localhost:8080/",
          "height": 282
        },
        "outputId": "061bcd46-a9f4-4dff-b176-308fa1ff2152"
      },
      "source": [
        "predictions = compute_predictions(features)\n",
        "plt.scatter(features[:, 0], features[:, 1], c=predictions[:, 0] > 0.5)"
      ],
      "execution_count": 24,
      "outputs": [
        {
          "output_type": "execute_result",
          "data": {
            "text/plain": [
              "<matplotlib.collections.PathCollection at 0x7fe1874029e8>"
            ]
          },
          "metadata": {
            "tags": []
          },
          "execution_count": 24
        },
        {
          "output_type": "display_data",
          "data": {
            "image/png": "[encoded data removed]",
            "text/plain": [
              "<Figure size 432x288 with 1 Axes>"
            ]
          },
          "metadata": {
            "tags": [],
            "needs_background": "light"
          }
        }
      ]
    }
  ]
}